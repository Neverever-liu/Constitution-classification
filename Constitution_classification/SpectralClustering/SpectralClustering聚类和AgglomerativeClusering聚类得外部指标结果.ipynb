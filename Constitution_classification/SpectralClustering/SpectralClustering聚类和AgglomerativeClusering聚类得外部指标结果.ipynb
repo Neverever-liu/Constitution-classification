{
 "cells": [
  {
   "cell_type": "code",
   "execution_count": 1,
   "metadata": {},
   "outputs": [],
   "source": [
    "from sklearn import metrics\n",
    "import pandas as pd\n",
    "import numpy as np\n",
    "import matplotlib.pyplot as plt\n",
    "\n",
    "data = pd.read_csv('E:/databag/男生data/SpectralClustering聚类(2到7)结果.csv',index_col=0)\n",
    "data_A = pd.read_csv('E:/databag/男生data/AgglomerativeClustering聚类(2到7)结果.csv',index_col=0)\n",
    "data1 = data['3个簇']\n",
    "data2 = data_A['3个簇']"
   ]
  },
  {
   "cell_type": "code",
   "execution_count": 2,
   "metadata": {},
   "outputs": [
    {
     "name": "stdout",
     "output_type": "stream",
     "text": [
      "0.06776682675175044\n"
     ]
    }
   ],
   "source": [
    "#NMI\n",
    "from sklearn.metrics.cluster import normalized_mutual_info_score\n",
    "print(normalized_mutual_info_score(data1, data2))\n"
   ]
  },
  {
   "cell_type": "code",
   "execution_count": 4,
   "metadata": {},
   "outputs": [
    {
     "name": "stdout",
     "output_type": "stream",
     "text": [
      "0.06681817917887266\n"
     ]
    }
   ],
   "source": [
    "#AMI\n",
    "from sklearn import metrics\n",
    "print(metrics.adjusted_mutual_info_score(data1, data2))"
   ]
  },
  {
   "cell_type": "code",
   "execution_count": 6,
   "metadata": {},
   "outputs": [
    {
     "name": "stdout",
     "output_type": "stream",
     "text": [
      "0.06403470890291588\n",
      "0.071960904970583\n",
      "0.06776682675175046\n"
     ]
    }
   ],
   "source": [
    "#V-measure\n",
    "print(metrics.homogeneity_score(data1,data2))\n",
    "print(metrics.completeness_score(data1,data2))\n",
    "print(metrics.v_measure_score(data1,data2))"
   ]
  },
  {
   "cell_type": "code",
   "execution_count": null,
   "metadata": {},
   "outputs": [],
   "source": []
  }
 ],
 "metadata": {
  "kernelspec": {
   "display_name": "Python 3",
   "language": "python",
   "name": "python3"
  },
  "language_info": {
   "codemirror_mode": {
    "name": "ipython",
    "version": 3
   },
   "file_extension": ".py",
   "mimetype": "text/x-python",
   "name": "python",
   "nbconvert_exporter": "python",
   "pygments_lexer": "ipython3",
   "version": "3.8.5"
  }
 },
 "nbformat": 4,
 "nbformat_minor": 4
}
